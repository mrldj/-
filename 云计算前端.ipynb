{
 "cells": [
  {
   "cell_type": "code",
   "execution_count": 2,
   "metadata": {},
   "outputs": [],
   "source": [
    "#!/usr/bin/python\n",
    "# -*- coding: UTF-8 -*-\n",
    "from tkinter import *"
   ]
  },
  {
   "cell_type": "code",
   "execution_count": 4,
   "metadata": {},
   "outputs": [],
   "source": [
    "top=Tk()\n",
    "top.wm_title(\"Data processing platform\")\n",
    "top.geometry(\"1200x800\")\n",
    "\n",
    "# 创建一个菜单项，类似于导航栏\n",
    "menubar=Menu(top)\n",
    "\n",
    "# 创建菜单项\n",
    "fmenu = Menu(top)\n",
    "for item in ['Open','Save as']:\n",
    "    fmenu.add_command(label=item)\n",
    "    \n",
    "fmenu1=Menu(top)\n",
    "\n",
    "# for item in ['缺失值处理','噪声处理']:\n",
    "#     # 如果该菜单时顶层菜单的一个菜单项，则它添加的是下拉菜单的菜单项。\n",
    "#     fmenu1.add_command(label=item)\n",
    "\n",
    "\n",
    "fmenu2=Menu(top)\n",
    "for item in ['']:\n",
    "    fmenu2.add_command(label=item)\n",
    "\n",
    "fmenu3=Menu(top)\n",
    "for item in ['Svm','Kmean','Lanczos','Bayesian','KNN']:\n",
    "    fmenu3.add_command(label=item)\n",
    "\n",
    "fmenu4=Menu(top)\n",
    "for item in [\"WordCount\",\"Max\",\"Mean\",\"Sort\"]:\n",
    "    fmenu4.add_command(label=item)\n",
    "\n",
    "fmenu5=Menu(top)\n",
    "for item in [\"Little game\",\"Interpolation method\"]:\n",
    "    fmenu5.add_command(label=item)\n",
    "\n",
    "    \n",
    "fmenu6=Menu(top)\n",
    "for item in ['Tkk',\"Cnn\"]:\n",
    "    fmenu6.add_command(label=item)  \n",
    "    \n",
    "# add_cascade 的一个很重要的属性就是 menu 属性，它指明了要把那个菜单级联到该菜单项上，\n",
    "# 当然，还必不可少的就是 label 属性，用于指定该菜单项的名称\n",
    "fmenu1.add_cascade(label=\"Missing value processing\",menu=fmenu5)\n",
    "fmenu1.add_cascade(label=\"Noise data processing\",menu=fmenu6)\n",
    "menubar.add_cascade(label=\"File\",menu=fmenu)\n",
    "menubar.add_cascade(label=\"Data cleaning\",menu=fmenu1)\n",
    "menubar.add_cascade(label=\"Data integration\",menu=fmenu2)\n",
    "menubar.add_cascade(label=\"Machine learning\",menu=fmenu3)\n",
    "menubar.add_cascade(label=\"Calculate\",menu=fmenu4)\n",
    "\n",
    "\n",
    "# 最后可以用窗口的 menu 属性指定我们使用哪一个作为它的顶层菜单\n",
    "top['menu']=menubar\n",
    "top.mainloop()"
   ]
  },
  {
   "cell_type": "code",
   "execution_count": null,
   "metadata": {},
   "outputs": [],
   "source": []
  },
  {
   "cell_type": "code",
   "execution_count": null,
   "metadata": {},
   "outputs": [],
   "source": []
  }
 ],
 "metadata": {
  "kernelspec": {
   "display_name": "Python 3",
   "language": "python",
   "name": "python3"
  },
  "language_info": {
   "codemirror_mode": {
    "name": "ipython",
    "version": 3
   },
   "file_extension": ".py",
   "mimetype": "text/x-python",
   "name": "python",
   "nbconvert_exporter": "python",
   "pygments_lexer": "ipython3",
   "version": "3.7.0"
  }
 },
 "nbformat": 4,
 "nbformat_minor": 2
}
